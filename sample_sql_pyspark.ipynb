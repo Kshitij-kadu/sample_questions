{
 "cells": [
  {
   "cell_type": "markdown",
   "metadata": {},
   "source": [
    "# 30."
   ]
  },
  {
   "cell_type": "code",
   "execution_count": null,
   "metadata": {},
   "outputs": [],
   "source": [
    "SQL - Write SQL query or by using Spark for the following scenario\n"
   ]
  },
  {
   "cell_type": "code",
   "execution_count": null,
   "metadata": {},
   "outputs": [],
   "source": []
  },
  {
   "cell_type": "code",
   "execution_count": null,
   "metadata": {},
   "outputs": [],
   "source": [
    "select * from matches;"
   ]
  },
  {
   "cell_type": "code",
   "execution_count": null,
   "metadata": {},
   "outputs": [],
   "source": [
    "+-------+-------+--------+\n",
    "| teama | teamb | winner |\n",
    "+-------+-------+--------+\n",
    "| ind   | pak   | ind    |\n",
    "| ind   | sr    | sr     |\n",
    "| ind   | aus   | ind    |\n",
    "| aus   | ind   | aus    |\n",
    "+-------+-------+--------+"
   ]
  },
  {
   "cell_type": "code",
   "execution_count": null,
   "metadata": {},
   "outputs": [],
   "source": []
  },
  {
   "cell_type": "code",
   "execution_count": null,
   "metadata": {},
   "outputs": [],
   "source": []
  },
  {
   "cell_type": "code",
   "execution_count": null,
   "metadata": {},
   "outputs": [],
   "source": [
    "select team, count(*) as total, sum(is_win) as won,\n",
    "       count(*) - sum(is_win) as lost\n",
    "from ((select teama as team,\n",
    "              (teama = winner) as is_win\n",
    "       from matches\n",
    "      ) union all\n",
    "      (select teamb as team,\n",
    "              (teamb = winner) as is_win\n",
    "       from matches\n",
    "      )\n",
    "     ) c\n",
    "group by team;"
   ]
  },
  {
   "cell_type": "code",
   "execution_count": null,
   "metadata": {},
   "outputs": [],
   "source": [
    "+------+-------+------+------+\n",
    "| team | total | won  | lost |\n",
    "+------+-------+------+------+\n",
    "| ind  |     4 |    2 |    2 |\n",
    "| aus  |     2 |    1 |    1 |\n",
    "| pak  |     1 |    0 |    1 |\n",
    "| sr   |     1 |    1 |    0 |\n",
    "+------+-------+------+------+"
   ]
  },
  {
   "cell_type": "code",
   "execution_count": null,
   "metadata": {},
   "outputs": [],
   "source": []
  },
  {
   "cell_type": "code",
   "execution_count": null,
   "metadata": {},
   "outputs": [],
   "source": [
    "select teama as team,\n",
    "              (teama = winner) as is_win\n",
    "       from matches"
   ]
  },
  {
   "cell_type": "code",
   "execution_count": null,
   "metadata": {},
   "outputs": [],
   "source": [
    "+------+--------+\n",
    "| team | is_win |\n",
    "+------+--------+\n",
    "| ind  |      1 |\n",
    "| ind  |      0 |\n",
    "| ind  |      1 |\n",
    "| aus  |      1 |\n",
    "+------+--------+"
   ]
  },
  {
   "cell_type": "code",
   "execution_count": null,
   "metadata": {},
   "outputs": [],
   "source": []
  },
  {
   "cell_type": "code",
   "execution_count": null,
   "metadata": {},
   "outputs": [],
   "source": [
    "select teamb as team,(teamb = winner) as is_win from matches;"
   ]
  },
  {
   "cell_type": "code",
   "execution_count": null,
   "metadata": {},
   "outputs": [],
   "source": [
    "+------+--------+\n",
    "| team | is_win |\n",
    "+------+--------+\n",
    "| pak  |      0 |\n",
    "| sr   |      1 |\n",
    "| aus  |      0 |\n",
    "| ind  |      0 |\n",
    "+------+--------+"
   ]
  },
  {
   "cell_type": "code",
   "execution_count": null,
   "metadata": {},
   "outputs": [],
   "source": []
  },
  {
   "cell_type": "code",
   "execution_count": null,
   "metadata": {},
   "outputs": [],
   "source": [
    "select teama as team,(teama = winner) as is_win from matches\n",
    "union all select teamb as team,(teamb = winner) as is_win from matches;\n",
    "      "
   ]
  },
  {
   "cell_type": "code",
   "execution_count": null,
   "metadata": {},
   "outputs": [],
   "source": [
    "+------+--------+\n",
    "| team | is_win |\n",
    "+------+--------+\n",
    "| ind  |      1 |\n",
    "| ind  |      0 |\n",
    "| ind  |      1 |\n",
    "| aus  |      1 |\n",
    "| pak  |      0 |\n",
    "| sr   |      1 |\n",
    "| aus  |      0 |\n",
    "| ind  |      0 |\n",
    "+------+--------+"
   ]
  },
  {
   "cell_type": "code",
   "execution_count": null,
   "metadata": {},
   "outputs": [],
   "source": []
  },
  {
   "cell_type": "code",
   "execution_count": null,
   "metadata": {},
   "outputs": [],
   "source": [
    "# final query with output"
   ]
  },
  {
   "cell_type": "code",
   "execution_count": null,
   "metadata": {},
   "outputs": [],
   "source": [
    "select team, count(*) as total, sum(is_win) as won,\n",
    "       count(*) - sum(is_win) as lost\n",
    "from ((select teama as team,\n",
    "              (teama = winner) as is_win\n",
    "       from matches\n",
    "      ) union all\n",
    "      (select teamb as team,\n",
    "              (teamb = winner) as is_win\n",
    "       from matches\n",
    "      )\n",
    "     ) c\n",
    "group by team;"
   ]
  },
  {
   "cell_type": "code",
   "execution_count": null,
   "metadata": {},
   "outputs": [],
   "source": [
    "+------+-------+------+------+\n",
    "| team | total | won  | lost |\n",
    "+------+-------+------+------+\n",
    "| ind  |     4 |    2 |    2 |\n",
    "| aus  |     2 |    1 |    1 |\n",
    "| pak  |     1 |    0 |    1 |\n",
    "| sr   |     1 |    1 |    0 |\n",
    "+------+-------+------+------+"
   ]
  },
  {
   "cell_type": "code",
   "execution_count": null,
   "metadata": {},
   "outputs": [],
   "source": []
  },
  {
   "cell_type": "code",
   "execution_count": null,
   "metadata": {},
   "outputs": [],
   "source": []
  },
  {
   "cell_type": "code",
   "execution_count": null,
   "metadata": {},
   "outputs": [],
   "source": []
  },
  {
   "cell_type": "markdown",
   "metadata": {},
   "source": [
    "# 31"
   ]
  },
  {
   "cell_type": "code",
   "execution_count": null,
   "metadata": {},
   "outputs": [],
   "source": [
    "31.  SQL - Given the two dataset\n",
    "a.User information (id, email, language, location)\n",
    "b.Transaction information (transaction-id, product-id, user-id, purchase-amount, item-description)\n",
    "Find the number of unique locations in which each product has been sold\n"
   ]
  },
  {
   "cell_type": "code",
   "execution_count": null,
   "metadata": {},
   "outputs": [],
   "source": [
    "create table user(\n",
    "    user_id int,\n",
    "    email varchar(50),\n",
    "    language varchar(20),\n",
    "    location varchar(20)\n",
    ")"
   ]
  },
  {
   "cell_type": "code",
   "execution_count": null,
   "metadata": {},
   "outputs": [],
   "source": [
    "insert into user values(1000, 'xyz@gm.com', 'english', 'TN');\n",
    "insert into user values(1001, 'abc@gm.com', 'english', 'Kerala');   \n",
    "insert into user values(1002, 'y@gm.com', 'english', 'TN');   \n",
    "insert into user values(1003, 'h@gm.com', 'english', 'Delhi');   \n",
    "insert into user values(1004, 'ash@gm.com', 'english', 'Kerala');   "
   ]
  },
  {
   "cell_type": "code",
   "execution_count": null,
   "metadata": {},
   "outputs": [],
   "source": []
  },
  {
   "cell_type": "code",
   "execution_count": null,
   "metadata": {},
   "outputs": [],
   "source": [
    "create table transaction(\n",
    "        t_id int,\n",
    "        product_id int,\n",
    "        user_id int,\n",
    "        purchase_amount float,\n",
    "        descc varchar(20)\n",
    "        );"
   ]
  },
  {
   "cell_type": "code",
   "execution_count": null,
   "metadata": {},
   "outputs": [],
   "source": []
  },
  {
   "cell_type": "code",
   "execution_count": null,
   "metadata": {},
   "outputs": [],
   "source": [
    "insert into transaction values (1234, 500, 1000, 1500.00, 'ItemA');\n",
    "insert into transaction values (1213, 501, 1002, 2000.00, 'ItemB');\n",
    "insert into transaction values (1776, 500, 1003, 1267.90, 'ItemA');\n",
    "insert into transaction values (3345, 500, 1002, 2334.90, 'ItemA');\n",
    "insert into transaction values (1245, 502, 1001, 4546.65, 'ItemC');\n",
    "insert into transaction values (1513, 501, 1004, 2000.00, 'ItemB');\n",
    "insert into transaction values (1113, 501, 1003, 2000.00, 'ItemB');"
   ]
  },
  {
   "cell_type": "code",
   "execution_count": null,
   "metadata": {},
   "outputs": [],
   "source": [
    "# final query"
   ]
  },
  {
   "cell_type": "code",
   "execution_count": null,
   "metadata": {},
   "outputs": [],
   "source": [
    " select u.location, t.product_id from user u join transaction t on u.user_id = t.user_id;"
   ]
  },
  {
   "cell_type": "code",
   "execution_count": null,
   "metadata": {},
   "outputs": [],
   "source": [
    "# output\n",
    "+----------+------------+\n",
    "| location | product_id |\n",
    "+----------+------------+\n",
    "| TN       |        500 |\n",
    "| TN       |        501 |\n",
    "| Delhi    |        500 |\n",
    "| TN       |        500 |\n",
    "| Kerala   |        502 |\n",
    "| Kerala   |        501 |\n",
    "| Delhi    |        501 |\n",
    "+----------+------------+\n",
    "7 rows in set (0.00 sec)"
   ]
  },
  {
   "cell_type": "code",
   "execution_count": null,
   "metadata": {},
   "outputs": [],
   "source": []
  },
  {
   "cell_type": "code",
   "execution_count": null,
   "metadata": {},
   "outputs": [],
   "source": []
  },
  {
   "cell_type": "markdown",
   "metadata": {},
   "source": [
    "# 32"
   ]
  },
  {
   "cell_type": "code",
   "execution_count": null,
   "metadata": {},
   "outputs": [],
   "source": [
    "32.  SQL -\n",
    "#  for this question\n",
    "# the logic could be get the reminder "
   ]
  },
  {
   "cell_type": "code",
   "execution_count": null,
   "metadata": {},
   "outputs": [],
   "source": [
    "72%8"
   ]
  },
  {
   "cell_type": "code",
   "execution_count": null,
   "metadata": {},
   "outputs": [],
   "source": [
    "20%8"
   ]
  },
  {
   "cell_type": "code",
   "execution_count": null,
   "metadata": {},
   "outputs": [],
   "source": [
    "21%8"
   ]
  },
  {
   "cell_type": "code",
   "execution_count": null,
   "metadata": {},
   "outputs": [],
   "source": [
    "9%8"
   ]
  },
  {
   "cell_type": "code",
   "execution_count": null,
   "metadata": {},
   "outputs": [],
   "source": []
  },
  {
   "cell_type": "code",
   "execution_count": null,
   "metadata": {},
   "outputs": [],
   "source": [
    "32.  SQL -\n",
    "72 seats per compartment, with 8 types of seats,\n",
    "L M U L M U SL SU\n",
    "1 2  3  4 5  6  7   8\n",
    "\n",
    "seat_num = 20  (input)\n",
    "no_of_diff_seats = 8\n",
    "\n",
    "Given a seat number find the type of seat (example for seatnum= 20 its 4)\n"
   ]
  },
  {
   "cell_type": "code",
   "execution_count": null,
   "metadata": {},
   "outputs": [],
   "source": []
  },
  {
   "cell_type": "code",
   "execution_count": null,
   "metadata": {},
   "outputs": [],
   "source": [
    "seat(10)"
   ]
  },
  {
   "cell_type": "code",
   "execution_count": null,
   "metadata": {},
   "outputs": [],
   "source": []
  },
  {
   "cell_type": "code",
   "execution_count": null,
   "metadata": {},
   "outputs": [],
   "source": [
    "create table seat(\n",
    "seat_type varchar(10),\n",
    "    seat_sr_no int\n",
    ");"
   ]
  },
  {
   "cell_type": "code",
   "execution_count": null,
   "metadata": {},
   "outputs": [],
   "source": [
    "L M U L M U SL SU\n",
    "1 2  3  4 5  6  7   8\n"
   ]
  },
  {
   "cell_type": "code",
   "execution_count": null,
   "metadata": {},
   "outputs": [],
   "source": [
    "insert into seat values('L',1);\n",
    "insert into seat values('M',2);\n",
    "insert into seat values('U',3);\n",
    "insert into seat values('L',4);\n",
    "insert into seat values('M',5);\n",
    "insert into seat values('U',6);\n",
    "insert into seat values('SL',7);\n",
    "insert into seat values('SU',8);"
   ]
  },
  {
   "cell_type": "code",
   "execution_count": null,
   "metadata": {},
   "outputs": [],
   "source": []
  },
  {
   "cell_type": "code",
   "execution_count": null,
   "metadata": {},
   "outputs": [],
   "source": [
    "#  QUERY AND FUNCTION FOR THE SAME PROBLEM"
   ]
  },
  {
   "cell_type": "code",
   "execution_count": null,
   "metadata": {},
   "outputs": [],
   "source": [
    "# 18 in consider as user input data"
   ]
  },
  {
   "cell_type": "code",
   "execution_count": null,
   "metadata": {},
   "outputs": [],
   "source": [
    "select seat_type, seat_sr_no, MOD( 18, 8) AS seat_num from seat;"
   ]
  },
  {
   "cell_type": "code",
   "execution_count": null,
   "metadata": {},
   "outputs": [],
   "source": [
    "+-----------+------------+----------+\n",
    "| seat_type | seat_sr_no | seat_num |\n",
    "+-----------+------------+----------+\n",
    "| L         |          1 |        2 |\n",
    "| M         |          2 |        2 |\n",
    "| U         |          3 |        2 |\n",
    "| L         |          4 |        2 |\n",
    "| M         |          5 |        2 |\n",
    "| U         |          6 |        2 |\n",
    "| SL        |          7 |        2 |\n",
    "| SU        |          8 |        2 |\n",
    "+-----------+------------+----------+"
   ]
  },
  {
   "cell_type": "code",
   "execution_count": null,
   "metadata": {},
   "outputs": [],
   "source": [
    "select seat_type, seat_sr_no, CASE WHEN MOD( 18, 8)=seat_sr_no THEN seat_type ELSE 0 END AS seat_num from seat;"
   ]
  },
  {
   "cell_type": "code",
   "execution_count": null,
   "metadata": {},
   "outputs": [],
   "source": [
    "+-----------+------------+----------+\n",
    "| seat_type | seat_sr_no | seat_num |\n",
    "+-----------+------------+----------+\n",
    "| L         |          1 | 0        |\n",
    "| M         |          2 | M        |\n",
    "| U         |          3 | 0        |\n",
    "| L         |          4 | 0        |\n",
    "| M         |          5 | 0        |\n",
    "| U         |          6 | 0        |\n",
    "| SL        |          7 | 0        |\n",
    "| SU        |          8 | 0        |\n",
    "+-----------+------------+----------+"
   ]
  },
  {
   "cell_type": "code",
   "execution_count": null,
   "metadata": {},
   "outputs": [],
   "source": [
    "def seat(input):\n",
    "#     get the reminder by dividing 8 \n",
    "    seat_no = input%8\n",
    "#     if the reminder is zero means number is divisable by 8 the return 8\n",
    "    if seat_no==0:\n",
    "        return 8\n",
    "#     if reminder is not zero means that is required seat number \n",
    "    elif seat_no != 0:\n",
    "        return seat_no\n",
    "        "
   ]
  },
  {
   "cell_type": "code",
   "execution_count": null,
   "metadata": {},
   "outputs": [],
   "source": [
    "seat(9)"
   ]
  },
  {
   "cell_type": "code",
   "execution_count": null,
   "metadata": {},
   "outputs": [],
   "source": []
  },
  {
   "cell_type": "code",
   "execution_count": null,
   "metadata": {},
   "outputs": [],
   "source": []
  },
  {
   "cell_type": "code",
   "execution_count": null,
   "metadata": {},
   "outputs": [],
   "source": []
  },
  {
   "cell_type": "code",
   "execution_count": null,
   "metadata": {},
   "outputs": [],
   "source": []
  },
  {
   "cell_type": "code",
   "execution_count": null,
   "metadata": {},
   "outputs": [],
   "source": []
  },
  {
   "cell_type": "code",
   "execution_count": null,
   "metadata": {},
   "outputs": [],
   "source": []
  },
  {
   "cell_type": "markdown",
   "metadata": {},
   "source": [
    "# 33"
   ]
  },
  {
   "cell_type": "code",
   "execution_count": null,
   "metadata": {},
   "outputs": [],
   "source": [
    "33.\tSQL – Write SQL for below scenario\n",
    "emp id, emp name, mgr_id\n",
    "1,Vishal,3\n",
    "2,Rohit,3\n",
    "3,Shreyank,4\n",
    "5,Viswa,NULL\n",
    "\n",
    "Find below details :  emp_id, emp_name, mgr’s_mgr_name\n",
    "ex-  1,Vishal, Viswa\n"
   ]
  },
  {
   "cell_type": "code",
   "execution_count": null,
   "metadata": {},
   "outputs": [],
   "source": []
  },
  {
   "cell_type": "code",
   "execution_count": null,
   "metadata": {},
   "outputs": [],
   "source": [
    "create table employee(\n",
    "emp_id int,\n",
    "    emp_name varchar(20),\n",
    "    mgr_id int\n",
    ");"
   ]
  },
  {
   "cell_type": "code",
   "execution_count": null,
   "metadata": {},
   "outputs": [],
   "source": [
    "insert into employee values (1,'Vishal',3);\n",
    "insert into employee values (2,'Rohit',3);\n",
    "insert into employee values (3,'Shreyank',4);\n",
    "insert into employee values (5,'Viswa',null);"
   ]
  },
  {
   "cell_type": "code",
   "execution_count": null,
   "metadata": {},
   "outputs": [],
   "source": []
  },
  {
   "cell_type": "code",
   "execution_count": null,
   "metadata": {},
   "outputs": [],
   "source": [
    "select m.emp_id, m.emp_name, e.emp_name as managerName\n",
    "FROM Employee e\n",
    "        JOIN Employee m ON e.emp_id = m.mgr_id ;"
   ]
  },
  {
   "cell_type": "code",
   "execution_count": null,
   "metadata": {},
   "outputs": [],
   "source": [
    "+--------+----------+-------------+\n",
    "| emp_id | emp_name | managerName |\n",
    "+--------+----------+-------------+\n",
    "|      1 | Vishal   | Shreyank    |\n",
    "|      2 | Rohit    | Shreyank    |\n",
    "+--------+----------+-------------+\n",
    "2 rows in set (0.00 sec)"
   ]
  },
  {
   "cell_type": "code",
   "execution_count": null,
   "metadata": {},
   "outputs": [],
   "source": []
  },
  {
   "cell_type": "code",
   "execution_count": null,
   "metadata": {},
   "outputs": [],
   "source": []
  },
  {
   "cell_type": "code",
   "execution_count": null,
   "metadata": {},
   "outputs": [],
   "source": [
    "select * from employee;\n",
    "+--------+----------+--------+\n",
    "| emp_id | emp_name | mgr_id |\n",
    "+--------+----------+--------+\n",
    "|      1 | Vishal   |      3 |\n",
    "|      2 | Rohit    |      3 |\n",
    "|      3 | Shreyank |      4 |\n",
    "|      5 | Viswa    |   NULL |\n",
    "+--------+----------+--------+\n",
    "4 rows in set (0.00 sec)\n"
   ]
  },
  {
   "cell_type": "code",
   "execution_count": null,
   "metadata": {},
   "outputs": [],
   "source": []
  },
  {
   "cell_type": "code",
   "execution_count": null,
   "metadata": {},
   "outputs": [],
   "source": []
  },
  {
   "cell_type": "code",
   "execution_count": null,
   "metadata": {},
   "outputs": [],
   "source": []
  },
  {
   "cell_type": "code",
   "execution_count": null,
   "metadata": {},
   "outputs": [],
   "source": []
  },
  {
   "cell_type": "markdown",
   "metadata": {},
   "source": [
    "## PYSPARK"
   ]
  },
  {
   "cell_type": "markdown",
   "metadata": {},
   "source": [
    "## PYSPARK"
   ]
  },
  {
   "cell_type": "code",
   "execution_count": 6,
   "metadata": {},
   "outputs": [],
   "source": [
    "import findspark\n",
    "findspark.init()\n",
    "from pyspark.sql import SparkSession\n",
    "\n",
    "spark = SparkSession.\\\n",
    "             builder.\\\n",
    "             master('local').\\\n",
    "             appName('sample').\\\n",
    "             getOrCreate()"
   ]
  },
  {
   "cell_type": "code",
   "execution_count": 7,
   "metadata": {},
   "outputs": [
    {
     "data": {
      "text/html": [
       "\n",
       "            <div>\n",
       "                <p><b>SparkSession - hive</b></p>\n",
       "                \n",
       "        <div>\n",
       "            <p><b>SparkContext</b></p>\n",
       "\n",
       "            <p><a href=\"http://host.docker.internal:50828\">Spark UI</a></p>\n",
       "\n",
       "            <dl>\n",
       "              <dt>Version</dt>\n",
       "                <dd><code>v3.1.3</code></dd>\n",
       "              <dt>Master</dt>\n",
       "                <dd><code>local</code></dd>\n",
       "              <dt>AppName</dt>\n",
       "                <dd><code>warehouse</code></dd>\n",
       "            </dl>\n",
       "        </div>\n",
       "        \n",
       "            </div>\n",
       "        "
      ],
      "text/plain": [
       "<pyspark.sql.session.SparkSession at 0x1b5039746c8>"
      ]
     },
     "execution_count": 7,
     "metadata": {},
     "output_type": "execute_result"
    }
   ],
   "source": [
    "spark"
   ]
  },
  {
   "cell_type": "markdown",
   "metadata": {},
   "source": [
    "# 36"
   ]
  },
  {
   "cell_type": "code",
   "execution_count": null,
   "metadata": {},
   "outputs": [],
   "source": [
    "36. Pyspark - set top box data\n",
    " Find the session time for per user and session.\n"
   ]
  },
  {
   "cell_type": "code",
   "execution_count": null,
   "metadata": {},
   "outputs": [],
   "source": [
    "schm=\"\"\"user_id int,session_id int,action string,time string\"\"\""
   ]
  },
  {
   "cell_type": "code",
   "execution_count": null,
   "metadata": {},
   "outputs": [],
   "source": [
    "data = [\n",
    "    (1,123, 'turned on', '11:00'),\n",
    "(1, 123, 'movie1','11:01'),\n",
    "(1, 123, 'movie2','11:02'),\n",
    "(1, 123, 'turned off','11:03')\n",
    "  ]"
   ]
  },
  {
   "cell_type": "code",
   "execution_count": null,
   "metadata": {},
   "outputs": [],
   "source": [
    "df = spark.createDataFrame(data,schema=schm)"
   ]
  },
  {
   "cell_type": "code",
   "execution_count": null,
   "metadata": {},
   "outputs": [],
   "source": [
    "df.printSchema()"
   ]
  },
  {
   "cell_type": "code",
   "execution_count": null,
   "metadata": {
    "scrolled": true
   },
   "outputs": [],
   "source": [
    "df.show()"
   ]
  },
  {
   "cell_type": "code",
   "execution_count": null,
   "metadata": {},
   "outputs": [],
   "source": []
  },
  {
   "cell_type": "code",
   "execution_count": null,
   "metadata": {},
   "outputs": [],
   "source": [
    "from pyspark.sql.functions import sum, expr, regexp_replace, col"
   ]
  },
  {
   "cell_type": "code",
   "execution_count": null,
   "metadata": {},
   "outputs": [],
   "source": [
    "df.select(\"*\").withColumn(\"time\", regexp_replace(col(\"time\"), \"[:]\", \"\").cast(\"int\").alias(\"replaced\")).show()"
   ]
  },
  {
   "cell_type": "code",
   "execution_count": null,
   "metadata": {},
   "outputs": [],
   "source": [
    "df.select(\"*\").withColumn(\"time\", regexp_replace(col(\"time\"), \"[:]\", \"\").cast(\"int\").alias(\"replaced\")).\\\n",
    "              withColumn('start_session', expr(\"\"\"CASE WHEN action = 'turned on' THEN time else 0 end\"\"\")).\\\n",
    "              withColumn('end_session', expr(\"\"\"CASE WHEN action = 'turned off' THEN time else 0 end\"\"\"))\\\n",
    "              .groupBy('user_id', 'session_id').\\\n",
    "               agg(sum('start_session').cast('int').alias('start'), sum('end_session').cast('int').alias('end')).\\\n",
    "               select('*').withColumn(\"session_time\", col('end')-col('start')).show()\n",
    "                "
   ]
  },
  {
   "cell_type": "code",
   "execution_count": null,
   "metadata": {},
   "outputs": [],
   "source": []
  },
  {
   "cell_type": "code",
   "execution_count": null,
   "metadata": {},
   "outputs": [],
   "source": []
  },
  {
   "cell_type": "code",
   "execution_count": null,
   "metadata": {},
   "outputs": [],
   "source": []
  },
  {
   "cell_type": "code",
   "execution_count": null,
   "metadata": {},
   "outputs": [],
   "source": []
  },
  {
   "cell_type": "markdown",
   "metadata": {},
   "source": [
    "# 37"
   ]
  },
  {
   "cell_type": "code",
   "execution_count": null,
   "metadata": {},
   "outputs": [],
   "source": [
    "37. Pyspark - Read a csv file in spark and while writing it should write the data\n",
    "              in only 4 parttiions and save it in parquet.\n"
   ]
  },
  {
   "cell_type": "code",
   "execution_count": 45,
   "metadata": {},
   "outputs": [],
   "source": [
    "schema = \"\"\"order_id int, order_date date, order_customer_id int, order_status string\"\"\""
   ]
  },
  {
   "cell_type": "code",
   "execution_count": 46,
   "metadata": {},
   "outputs": [],
   "source": [
    "orders = spark.read.csv(r'C:\\Users\\Kshitij kadu\\Desktop\\sample_data\\retail_csv\\orders', schema)"
   ]
  },
  {
   "cell_type": "code",
   "execution_count": 49,
   "metadata": {},
   "outputs": [
    {
     "data": {
      "text/plain": [
       "1"
      ]
     },
     "execution_count": 49,
     "metadata": {},
     "output_type": "execute_result"
    }
   ],
   "source": [
    "orders.rdd.getNumPartitions()"
   ]
  },
  {
   "cell_type": "code",
   "execution_count": 51,
   "metadata": {},
   "outputs": [],
   "source": [
    "orders.repartition(4).write.parquet(r\"C:\\Users\\Kshitij kadu\\Desktop\\write\\order\")"
   ]
  },
  {
   "cell_type": "code",
   "execution_count": null,
   "metadata": {},
   "outputs": [],
   "source": []
  },
  {
   "cell_type": "markdown",
   "metadata": {},
   "source": [
    "# 38"
   ]
  },
  {
   "cell_type": "code",
   "execution_count": null,
   "metadata": {},
   "outputs": [],
   "source": [
    "38. Pyspark – Read CSV file and Hive Table. Join both of them based on a common key column (id).\n",
    "    Apply a filter after joining (flag=1). Store that result back into another Hive table.\n"
   ]
  },
  {
   "cell_type": "code",
   "execution_count": null,
   "metadata": {},
   "outputs": [],
   "source": []
  },
  {
   "cell_type": "code",
   "execution_count": 14,
   "metadata": {},
   "outputs": [],
   "source": [
    "schema = \"\"\"order_id int, order_date date, order_customer_id int, order_status string\"\"\""
   ]
  },
  {
   "cell_type": "code",
   "execution_count": 16,
   "metadata": {},
   "outputs": [],
   "source": [
    "orders = spark.read.csv(r'C:\\Users\\Kshitij kadu\\Desktop\\sample_data\\retail_csv\\orders', schema)"
   ]
  },
  {
   "cell_type": "code",
   "execution_count": null,
   "metadata": {},
   "outputs": [],
   "source": []
  },
  {
   "cell_type": "code",
   "execution_count": null,
   "metadata": {},
   "outputs": [],
   "source": [
    "# order_items = spark.sql(\"SELECT * FROM order_items\")\n"
   ]
  },
  {
   "cell_type": "code",
   "execution_count": 23,
   "metadata": {},
   "outputs": [],
   "source": [
    "order_items = spark.read.json(r'C:\\Users\\Kshitij kadu\\Desktop\\sample_data\\retail_db_json\\order_items')"
   ]
  },
  {
   "cell_type": "code",
   "execution_count": null,
   "metadata": {},
   "outputs": [],
   "source": [
    "order_items.printSchema()"
   ]
  },
  {
   "cell_type": "code",
   "execution_count": 25,
   "metadata": {},
   "outputs": [],
   "source": [
    "orders_join = orders.join( order_items, \n",
    "                              on=orders.order_id == order_items.order_item_order_id\n",
    "                            )"
   ]
  },
  {
   "cell_type": "code",
   "execution_count": null,
   "metadata": {},
   "outputs": [],
   "source": [
    "orders_join.printSchema()"
   ]
  },
  {
   "cell_type": "code",
   "execution_count": null,
   "metadata": {},
   "outputs": [],
   "source": []
  },
  {
   "cell_type": "code",
   "execution_count": 29,
   "metadata": {},
   "outputs": [],
   "source": [
    "filter_orders = orders_join.filter(\"order_item_subtotal > 1000\")"
   ]
  },
  {
   "cell_type": "code",
   "execution_count": null,
   "metadata": {},
   "outputs": [],
   "source": []
  },
  {
   "cell_type": "markdown",
   "metadata": {},
   "source": [
    "save the df to hive table"
   ]
  },
  {
   "cell_type": "code",
   "execution_count": null,
   "metadata": {},
   "outputs": [],
   "source": []
  },
  {
   "cell_type": "code",
   "execution_count": null,
   "metadata": {},
   "outputs": [],
   "source": [
    "filter_orders.write.saveAsTable(\"table_name\", mode = 'append')"
   ]
  },
  {
   "cell_type": "code",
   "execution_count": null,
   "metadata": {},
   "outputs": [],
   "source": [
    "help(filter_orders.write.saveAsTable)"
   ]
  },
  {
   "cell_type": "markdown",
   "metadata": {},
   "source": [
    "# 39"
   ]
  },
  {
   "cell_type": "code",
   "execution_count": null,
   "metadata": {},
   "outputs": [],
   "source": [
    "39. Pyspark - Write a pyspark code to get name of customer who didn't order anything?\n"
   ]
  },
  {
   "cell_type": "code",
   "execution_count": null,
   "metadata": {},
   "outputs": [],
   "source": [
    "create req. dataframes "
   ]
  },
  {
   "cell_type": "code",
   "execution_count": 35,
   "metadata": {},
   "outputs": [],
   "source": [
    "custoner_data = [(1, 'joe'),(2,\"Henry\"),(3,\"Sam\"),(4,\"Max\")]\n",
    "customer_schema = \"\"\"c_id int, c_name string\"\"\"\n",
    "c_df = spark.createDataFrame(custoner_data, customer_schema)"
   ]
  },
  {
   "cell_type": "code",
   "execution_count": null,
   "metadata": {},
   "outputs": [],
   "source": []
  },
  {
   "cell_type": "code",
   "execution_count": 37,
   "metadata": {},
   "outputs": [],
   "source": [
    "order_data = [(1,3),(2,1)]\n",
    "order_schema = \"\"\"o_id int, o_c_id int\"\"\"\n",
    "o_df = spark.createDataFrame(order_data, order_schema)"
   ]
  },
  {
   "cell_type": "code",
   "execution_count": 41,
   "metadata": {},
   "outputs": [],
   "source": [
    "co_join = c_df.join(o_df, on = c_df.c_id == o_df.o_c_id, how='left')"
   ]
  },
  {
   "cell_type": "code",
   "execution_count": 42,
   "metadata": {},
   "outputs": [
    {
     "name": "stdout",
     "output_type": "stream",
     "text": [
      "+----+------+----+------+\n",
      "|c_id|c_name|o_id|o_c_id|\n",
      "+----+------+----+------+\n",
      "|   1|   joe|   2|     1|\n",
      "|   3|   Sam|   1|     3|\n",
      "|   4|   Max|null|  null|\n",
      "|   2| Henry|null|  null|\n",
      "+----+------+----+------+\n",
      "\n"
     ]
    }
   ],
   "source": [
    "co_join.show()"
   ]
  },
  {
   "cell_type": "code",
   "execution_count": 44,
   "metadata": {},
   "outputs": [
    {
     "name": "stdout",
     "output_type": "stream",
     "text": [
      "+----+------+----+------+\n",
      "|c_id|c_name|o_id|o_c_id|\n",
      "+----+------+----+------+\n",
      "|   4|   Max|null|  null|\n",
      "|   2| Henry|null|  null|\n",
      "+----+------+----+------+\n",
      "\n"
     ]
    }
   ],
   "source": [
    "co_join.filter(\"o_id is null\").show()"
   ]
  },
  {
   "cell_type": "code",
   "execution_count": null,
   "metadata": {},
   "outputs": [],
   "source": []
  }
 ],
 "metadata": {
  "kernelspec": {
   "display_name": "Pyspark 2",
   "language": "python",
   "name": "pyspark2"
  },
  "language_info": {
   "codemirror_mode": {
    "name": "ipython",
    "version": 3
   },
   "file_extension": ".py",
   "mimetype": "text/x-python",
   "name": "python",
   "nbconvert_exporter": "python",
   "pygments_lexer": "ipython3",
   "version": "3.6.12"
  }
 },
 "nbformat": 4,
 "nbformat_minor": 4
}
